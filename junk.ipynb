{
 "cells": [
  {
   "cell_type": "code",
   "execution_count": 1,
   "outputs": [],
   "source": [
    "import pandas as pd"
   ],
   "metadata": {
    "collapsed": false,
    "pycharm": {
     "name": "#%%\n"
    }
   }
  },
  {
   "cell_type": "code",
   "execution_count": 17,
   "outputs": [],
   "source": [
    "df=pd.read_csv('junk.csv')"
   ],
   "metadata": {
    "collapsed": false,
    "pycharm": {
     "name": "#%%\n"
    }
   }
  },
  {
   "cell_type": "code",
   "execution_count": 23,
   "outputs": [
    {
     "data": {
      "text/plain": "1021.5"
     },
     "execution_count": 23,
     "metadata": {},
     "output_type": "execute_result"
    }
   ],
   "source": [
    "1135*0.9"
   ],
   "metadata": {
    "collapsed": false,
    "pycharm": {
     "name": "#%%\n"
    }
   }
  },
  {
   "cell_type": "code",
   "execution_count": 62,
   "outputs": [
    {
     "data": {
      "text/plain": "791"
     },
     "execution_count": 62,
     "metadata": {},
     "output_type": "execute_result"
    }
   ],
   "source": [
    "k=81\n",
    "sum(df['second'].iloc[:k]) + k"
   ],
   "metadata": {
    "collapsed": false,
    "pycharm": {
     "name": "#%%\n"
    }
   }
  },
  {
   "cell_type": "code",
   "execution_count": 60,
   "outputs": [
    {
     "ename": "IndentationError",
     "evalue": "unexpected indent (<ipython-input-60-65147e229a25>, line 3)",
     "output_type": "error",
     "traceback": [
      "\u001B[1;36m  File \u001B[1;32m\"<ipython-input-60-65147e229a25>\"\u001B[1;36m, line \u001B[1;32m3\u001B[0m\n\u001B[1;33m    restricted_segmentations = set()\u001B[0m\n\u001B[1;37m    ^\u001B[0m\n\u001B[1;31mIndentationError\u001B[0m\u001B[1;31m:\u001B[0m unexpected indent\n"
     ]
    }
   ],
   "source": [
    "######3 for split_env\n",
    "possible_segmentations = set()\n",
    "        restricted_segmentations = set()\n",
    "\n",
    "        number_of_envs = len(self.indices['second'])\n",
    "        for i in range(1, number_of_envs):\n",
    "            print(i)\n",
    "            for ite in itertools.combinations(list(range(number_of_envs)), i):\n",
    "                if (ite not in possible_segmentations) and (ite not in restricted_segmentations):\n",
    "                    summation = 0\n",
    "\n",
    "                    for i in ite:\n",
    "                        summation += self.indices['second'].iloc[i:i+1].item()+1\n",
    "                    if (summation <= (self.N * (p+10)/100)) and (summation >= (self.N * (p-10)/100)):\n",
    "                        possible_segmentations.add(ite)\n",
    "                    elif (summation <= (self.N * (100-p+1)/100)) and (summation >= (self.N * (100-p-10)/100)):\n",
    "                        possible_segmentations.add(tuple(set(list(range(number_of_envs))) - set(ite)))\n",
    "                    else:\n",
    "                        restricted_segmentations.add(ite)\n",
    "                        restricted_segmentations.add(tuple(set(list(range(number_of_envs))) - set(ite)))"
   ],
   "metadata": {
    "collapsed": false,
    "pycharm": {
     "name": "#%%\n"
    }
   }
  },
  {
   "cell_type": "code",
   "execution_count": null,
   "outputs": [],
   "source": [],
   "metadata": {
    "collapsed": false,
    "pycharm": {
     "name": "#%%\n"
    }
   }
  }
 ],
 "metadata": {
  "kernelspec": {
   "display_name": "Python 3",
   "language": "python",
   "name": "python3"
  },
  "language_info": {
   "codemirror_mode": {
    "name": "ipython",
    "version": 2
   },
   "file_extension": ".py",
   "mimetype": "text/x-python",
   "name": "python",
   "nbconvert_exporter": "python",
   "pygments_lexer": "ipython2",
   "version": "2.7.6"
  }
 },
 "nbformat": 4,
 "nbformat_minor": 0
}