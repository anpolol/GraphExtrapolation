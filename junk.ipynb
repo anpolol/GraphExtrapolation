{
 "cells": [
  {
   "cell_type": "code",
   "execution_count": 1,
   "outputs": [],
   "source": [
    "import pandas as pd\n",
    "df=pd.read_csv('junk.csv')\n"
   ],
   "metadata": {
    "collapsed": false,
    "pycharm": {
     "name": "#%%\n"
    }
   }
  },
  {
   "cell_type": "code",
   "execution_count": 3,
   "outputs": [
    {
     "name": "stdout",
     "output_type": "stream",
     "text": [
      "['5', '5', '5', '9', '5']\n",
      "['3', '5', '8', '9', '20']\n"
     ]
    }
   ],
   "source": [
    "import random\n",
    "dataset = ['3','5','8','9','20']\n",
    "\n",
    "tr = []\n",
    "te=[]\n",
    "\n",
    "while len(tr) < 3:\n",
    "    tr.append(random.choice(dataset))\n",
    "print(tr)\n",
    "print(dataset)"
   ],
   "metadata": {
    "collapsed": false,
    "pycharm": {
     "name": "#%%\n"
    }
   }
  },
  {
   "cell_type": "code",
   "execution_count": 7,
   "outputs": [
    {
     "data": {
      "text/plain": "   0  1\n0  1  2\n1  2  3\n2  4  5\n3  6  7",
      "text/html": "<div>\n<style scoped>\n    .dataframe tbody tr th:only-of-type {\n        vertical-align: middle;\n    }\n\n    .dataframe tbody tr th {\n        vertical-align: top;\n    }\n\n    .dataframe thead th {\n        text-align: right;\n    }\n</style>\n<table border=\"1\" class=\"dataframe\">\n  <thead>\n    <tr style=\"text-align: right;\">\n      <th></th>\n      <th>0</th>\n      <th>1</th>\n    </tr>\n  </thead>\n  <tbody>\n    <tr>\n      <th>0</th>\n      <td>1</td>\n      <td>2</td>\n    </tr>\n    <tr>\n      <th>1</th>\n      <td>2</td>\n      <td>3</td>\n    </tr>\n    <tr>\n      <th>2</th>\n      <td>4</td>\n      <td>5</td>\n    </tr>\n    <tr>\n      <th>3</th>\n      <td>6</td>\n      <td>7</td>\n    </tr>\n  </tbody>\n</table>\n</div>"
     },
     "execution_count": 7,
     "metadata": {},
     "output_type": "execute_result"
    }
   ],
   "source": [
    "df = pd.DataFrame([[1,2],[2,3],[4,5],[6,7]])\n",
    "df[df[;]]"
   ],
   "metadata": {
    "collapsed": false,
    "pycharm": {
     "name": "#%%\n"
    }
   }
  },
  {
   "cell_type": "code",
   "execution_count": 62,
   "outputs": [
    {
     "data": {
      "text/plain": "791"
     },
     "execution_count": 62,
     "metadata": {},
     "output_type": "execute_result"
    }
   ],
   "source": [
    "k=81\n",
    "sum(df['second'].iloc[:k]) + k"
   ],
   "metadata": {
    "collapsed": false,
    "pycharm": {
     "name": "#%%\n"
    }
   }
  },
  {
   "cell_type": "code",
   "execution_count": 60,
   "outputs": [
    {
     "ename": "IndentationError",
     "evalue": "unexpected indent (<ipython-input-60-65147e229a25>, line 3)",
     "output_type": "error",
     "traceback": [
      "\u001B[1;36m  File \u001B[1;32m\"<ipython-input-60-65147e229a25>\"\u001B[1;36m, line \u001B[1;32m3\u001B[0m\n\u001B[1;33m    restricted_segmentations = set()\u001B[0m\n\u001B[1;37m    ^\u001B[0m\n\u001B[1;31mIndentationError\u001B[0m\u001B[1;31m:\u001B[0m unexpected indent\n"
     ]
    }
   ],
   "source": [
    "######3 for split_env\n",
    "possible_segmentations = set()\n",
    "        restricted_segmentations = set()\n",
    "\n",
    "        number_of_envs = len(self.indices['second'])\n",
    "        for i in range(1, number_of_envs):\n",
    "            print(i)\n",
    "            for ite in itertools.combinations(list(range(number_of_envs)), i):\n",
    "                if (ite not in possible_segmentations) and (ite not in restricted_segmentations):\n",
    "                    summation = 0\n",
    "\n",
    "                    for i in ite:\n",
    "                        summation += self.indices['second'].iloc[i:i+1].item()+1\n",
    "                    if (summation <= (self.N * (p+10)/100)) and (summation >= (self.N * (p-10)/100)):\n",
    "                        possible_segmentations.add(ite)\n",
    "                    elif (summation <= (self.N * (100-p+1)/100)) and (summation >= (self.N * (100-p-10)/100)):\n",
    "                        possible_segmentations.add(tuple(set(list(range(number_of_envs))) - set(ite)))\n",
    "                    else:\n",
    "                        restricted_segmentations.add(ite)\n",
    "                        restricted_segmentations.add(tuple(set(list(range(number_of_envs))) - set(ite)))"
   ],
   "metadata": {
    "collapsed": false,
    "pycharm": {
     "name": "#%%\n"
    }
   }
  },
  {
   "cell_type": "code",
   "execution_count": null,
   "outputs": [],
   "source": [],
   "metadata": {
    "collapsed": false,
    "pycharm": {
     "name": "#%%\n"
    }
   }
  }
 ],
 "metadata": {
  "kernelspec": {
   "display_name": "Python 3",
   "language": "python",
   "name": "python3"
  },
  "language_info": {
   "codemirror_mode": {
    "name": "ipython",
    "version": 2
   },
   "file_extension": ".py",
   "mimetype": "text/x-python",
   "name": "python",
   "nbconvert_exporter": "python",
   "pygments_lexer": "ipython2",
   "version": "2.7.6"
  }
 },
 "nbformat": 4,
 "nbformat_minor": 0
}